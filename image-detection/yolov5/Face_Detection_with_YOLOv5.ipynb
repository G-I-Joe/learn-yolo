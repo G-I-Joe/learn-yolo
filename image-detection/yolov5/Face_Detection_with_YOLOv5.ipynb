{
  "nbformat": 4,
  "nbformat_minor": 0,
  "metadata": {
    "colab": {
      "name": "Face Detection with YOLOv5",
      "provenance": [],
      "toc_visible": true
    },
    "kernelspec": {
      "name": "python3",
      "display_name": "Python 3"
    }
  },
  "cells": [
    {
      "cell_type": "markdown",
      "metadata": {
        "id": "SgEfhc2Vqxki"
      },
      "source": [
        "# Steps\n",
        "\n",
        "## Creating the Dataset\n",
        "\n",
        "1. Use the [json file](/content/face_detection/face_detection.json) provided by the [kaggle challenge](https://www.kaggle.com/dataturks/face-detection-in-images) to download all images to data directory\n",
        "2. \n",
        "\n",
        "## Clone and setup YOLOv5\n",
        "1. git clone the repo (to get scripts, model)\n",
        "2. download the weights (yolov5x.pt)\n",
        "\n",
        "## Run detections at IoU 0.6\n",
        "use `scripts/detect.py` to run inference/ detections on all the images in the data directory.\n",
        "\n",
        "## Compare detections with GT.\n",
        "Here is where we can check if YOLOv5 has some built-in facility to do this for us.\n"
      ]
    },
    {
      "cell_type": "code",
      "metadata": {
        "colab": {
          "base_uri": "https://localhost:8080/"
        },
        "id": "EMMenXsH1SCh",
        "outputId": "299352d4-95a2-447c-bd4e-cd38dd286efc"
      },
      "source": [
        "# Download the face_detections.jsom from github\n",
        "!mkdir -p /content/face_detection\n",
        "!rm -rf \"/content/face_detection/*\"\n",
        "!curl \"https://raw.githubusercontent.com/G-I-Joe/learn-yolo/main/image-detection/yolov5/face_detection.json\" -o /content/face_detection/face_detection.json"
      ],
      "execution_count": 1,
      "outputs": [
        {
          "output_type": "stream",
          "text": [
            "  % Total    % Received % Xferd  Average Speed   Time    Time     Time  Current\n",
            "                                 Dload  Upload   Total   Spent    Left  Speed\n",
            "100  267k  100  267k    0     0  1162k      0 --:--:-- --:--:-- --:--:-- 1162k\n"
          ],
          "name": "stdout"
        }
      ]
    },
    {
      "cell_type": "code",
      "metadata": {
        "colab": {
          "base_uri": "https://localhost:8080/"
        },
        "id": "zPj_Jr73qSaS",
        "outputId": "84531e8c-f033-4fa3-9320-d9a76cd5786d"
      },
      "source": [
        "jsonpath = \"/content/face_detection/face_detection.json\"\n",
        "!wc -l \"/content/face_detection/face_detection.json\""
      ],
      "execution_count": 2,
      "outputs": [
        {
          "output_type": "stream",
          "text": [
            "409 /content/face_detection/face_detection.json\n"
          ],
          "name": "stdout"
        }
      ]
    },
    {
      "cell_type": "code",
      "metadata": {
        "id": "XQSeo3uRr7Lt"
      },
      "source": [
        "from pathlib import Path\n",
        "from tqdm import tqdm\n",
        "import numpy as np\n",
        "import json\n",
        "import urllib.request\n",
        "import PIL.Image as Image\n",
        "import cv2\n",
        "\n",
        "import matplotlib.pyplot as plt\n",
        "from matplotlib import rc\n",
        "\n",
        "%matplotlib inline\n"
      ],
      "execution_count": 15,
      "outputs": []
    },
    {
      "cell_type": "code",
      "metadata": {
        "colab": {
          "base_uri": "https://localhost:8080/"
        },
        "id": "7c-fTVjCvV_T",
        "outputId": "1f1617a1-16ff-4fe1-d461-e0f1ea643575"
      },
      "source": [
        "data = []\n",
        "with open(jsonpath) as f:\n",
        "  for line in f:\n",
        "    data.append(json.loads(line))\n",
        "\n",
        "print(f\"loaded {len(data)} items.\")"
      ],
      "execution_count": 16,
      "outputs": [
        {
          "output_type": "stream",
          "text": [
            "loaded 409 items.\n"
          ],
          "name": "stdout"
        }
      ]
    },
    {
      "cell_type": "code",
      "metadata": {
        "colab": {
          "base_uri": "https://localhost:8080/"
        },
        "id": "lu9_NXWjwJO1",
        "outputId": "2c3477e9-9f0e-4aa4-c00d-b45dda663484"
      },
      "source": [
        "data[0]\n",
        "p = data[0][\"content\"]\n",
        "\n",
        "Path(jsonpath).parent / \"images\" / Path(p).name"
      ],
      "execution_count": 17,
      "outputs": [
        {
          "output_type": "execute_result",
          "data": {
            "text/plain": [
              "PosixPath('/content/face_detection/images/8186c3d1-e9d4-4550-8ec1-a062a7628787___0-26.jpg.jpeg')"
            ]
          },
          "metadata": {
            "tags": []
          },
          "execution_count": 17
        }
      ]
    },
    {
      "cell_type": "code",
      "metadata": {
        "colab": {
          "base_uri": "https://localhost:8080/"
        },
        "id": "g2LRG3H1wKsF",
        "outputId": "cecb5642-fffb-406c-aaf3-608d88c4fa19"
      },
      "source": [
        "categories = []\n",
        "for item in data:\n",
        "  annotations = item['annotation']\n",
        "  for annotation in annotations:\n",
        "    categories.extend(annotation['label'])\n",
        "categories = list(set(categories))\n",
        "print(categories)"
      ],
      "execution_count": 18,
      "outputs": [
        {
          "output_type": "stream",
          "text": [
            "['Face']\n"
          ],
          "name": "stdout"
        }
      ]
    },
    {
      "cell_type": "markdown",
      "metadata": {
        "id": "Pdw40BMBwuJ2"
      },
      "source": [
        "### Download all images to data directory\n",
        "\n"
      ]
    },
    {
      "cell_type": "code",
      "metadata": {
        "id": "94VuLuFhw4oO",
        "colab": {
          "base_uri": "https://localhost:8080/"
        },
        "outputId": "95132588-04fe-4b0a-b09f-47ec211614bc"
      },
      "source": [
        "!mkdir -p /content/face_detection/images\n",
        "!rm /content/face_detection/images/*"
      ],
      "execution_count": 21,
      "outputs": [
        {
          "output_type": "stream",
          "text": [
            "rm: cannot remove '/content/face_detection/images/*': No such file or directory\n"
          ],
          "name": "stdout"
        }
      ]
    },
    {
      "cell_type": "code",
      "metadata": {
        "colab": {
          "base_uri": "https://localhost:8080/"
        },
        "id": "AUDUBmHFywZl",
        "outputId": "baa768e6-e577-48b6-8f4b-296762163939"
      },
      "source": [
        "img_dir = Path(jsonpath).parent / \"images\"\n",
        "\n",
        "for item in tqdm(data):\n",
        "  link = item['content']\n",
        "  filename = Path(link).name\n",
        "  img = urllib.request.urlopen(link)\n",
        "  img = Image.open(img)\n",
        "  img = img.convert('RGB')\n",
        "  img.save(img_dir / filename, \"JPEG\")\n"
      ],
      "execution_count": 22,
      "outputs": [
        {
          "output_type": "stream",
          "text": [
            "100%|██████████| 409/409 [01:17<00:00,  5.27it/s]\n"
          ],
          "name": "stderr"
        }
      ]
    },
    {
      "cell_type": "code",
      "metadata": {
        "id": "SguuU0TJ9BSS"
      },
      "source": [
        ""
      ],
      "execution_count": null,
      "outputs": []
    }
  ]
}